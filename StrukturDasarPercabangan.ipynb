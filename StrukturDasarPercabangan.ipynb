{
 "cells": [
  {
   "cell_type": "markdown",
   "metadata": {},
   "source": [
    "# Struktur Dasar Percabangan IF, IF-THEN"
   ]
  },
  {
   "cell_type": "markdown",
   "metadata": {},
   "source": [
    "## Menentukan Suatu Bilangan Termasuk Bilangan Positif atau Negatif"
   ]
  },
  {
   "cell_type": "code",
   "execution_count": 1,
   "metadata": {},
   "outputs": [
    {
     "name": "stdout",
     "output_type": "stream",
     "text": [
      "Masukkan bilangan: 97\n"
     ]
    }
   ],
   "source": [
    "input_nilai = float(input(\"Masukkan bilangan: \"))"
   ]
  },
  {
   "cell_type": "code",
   "execution_count": 2,
   "metadata": {},
   "outputs": [
    {
     "name": "stdout",
     "output_type": "stream",
     "text": [
      "97.0 adalah bilangan positif\n"
     ]
    }
   ],
   "source": [
    "if input_nilai>0:\n",
    "    print(input_nilai,\"adalah bilangan positif\")\n",
    "else:\n",
    "    print(input_nilai,\"adalah bilangan negatif\")"
   ]
  },
  {
   "cell_type": "markdown",
   "metadata": {},
   "source": [
    "## Menentukan Suatu Karakter Termasuk Huruf Vokal atau Konsonan"
   ]
  },
  {
   "cell_type": "code",
   "execution_count": 16,
   "metadata": {},
   "outputs": [
    {
     "name": "stdout",
     "output_type": "stream",
     "text": [
      "Masukkan satu karakter: a\n"
     ]
    }
   ],
   "source": [
    "input_karakter = str(input(\"Masukkan satu karakter: \"))"
   ]
  },
  {
   "cell_type": "code",
   "execution_count": 17,
   "metadata": {},
   "outputs": [
    {
     "name": "stdout",
     "output_type": "stream",
     "text": [
      "a adalah huruf vokal\n"
     ]
    }
   ],
   "source": [
    "if input_karakter=='A' or input_karakter=='I' or input_karakter=='U' or input_karakter=='E' or input_karakter=='O' or input_karakter=='a' or input_karakter=='i' or input_karakter=='u' or input_karakter=='e' or input_karakter=='o':\n",
    "    print(input_karakter,\"adalah huruf vokal\")\n",
    "else:\n",
    "    print(input_karakter,\"adalah huruf konsonan\")"
   ]
  },
  {
   "cell_type": "code",
   "execution_count": 18,
   "metadata": {},
   "outputs": [
    {
     "name": "stdout",
     "output_type": "stream",
     "text": [
      "a adalah huruf vokal\n"
     ]
    }
   ],
   "source": [
    "alphabet = \"A, I, U, E, O, a, i ,u, e, o\"\n",
    "if input_karakter in alphabet:\n",
    "    print(input_karakter,\"adalah huruf vokal\")\n",
    "else: \n",
    "    print(input_karakter,\"adalah huruf konsonan\")"
   ]
  },
  {
   "cell_type": "markdown",
   "metadata": {},
   "source": [
    "## Menentukan Nilai Terbesar dari Tiga Bilangan"
   ]
  },
  {
   "cell_type": "code",
   "execution_count": 7,
   "metadata": {},
   "outputs": [
    {
     "name": "stdout",
     "output_type": "stream",
     "text": [
      "Masukkan bilangan pertama: 15\n"
     ]
    }
   ],
   "source": [
    "input_nilai_1 = float(input(\"Masukkan bilangan pertama: \"))"
   ]
  },
  {
   "cell_type": "code",
   "execution_count": 8,
   "metadata": {},
   "outputs": [
    {
     "name": "stdout",
     "output_type": "stream",
     "text": [
      "Masukkan bilangan kedua: 17\n"
     ]
    }
   ],
   "source": [
    "input_nilai_2 = float(input(\"Masukkan bilangan kedua: \"))"
   ]
  },
  {
   "cell_type": "code",
   "execution_count": 9,
   "metadata": {},
   "outputs": [
    {
     "name": "stdout",
     "output_type": "stream",
     "text": [
      "Masukkan bilangan ketiga: 19\n"
     ]
    }
   ],
   "source": [
    "input_nilai_3 = float(input(\"Masukkan bilangan ketiga: \"))"
   ]
  },
  {
   "cell_type": "code",
   "execution_count": 10,
   "metadata": {},
   "outputs": [
    {
     "name": "stdout",
     "output_type": "stream",
     "text": [
      "bilangan terbesar adalah 19.0\n"
     ]
    }
   ],
   "source": [
    "if input_nilai_1>input_nilai_2 and input_nilai_1>input_nilai_3:\n",
    "    print(\"bilangan terbesar adalah,\",input_nilai_1)\n",
    "elif input_nilai_2>input_nilai_1 and input_nilai_2>input_nilai_3:\n",
    "    print(\"bilangan terbesar adalah\",input_nilai_2)\n",
    "elif input_nilai_3>input_nilai_1 and input_nilai_3>input_nilai_2 :\n",
    "    print (\"bilangan terbesar adalah\",input_nilai_3)\n",
    "else:\n",
    "    print (\"tidak ditemukan bilangan terbesar\")"
   ]
  },
  {
   "cell_type": "markdown",
   "metadata": {},
   "source": [
    "## ----------------------------------------------------IBNU ZAHY' ATHA ILLAH"
   ]
  }
 ],
 "metadata": {
  "kernelspec": {
   "display_name": "Python 3",
   "language": "python",
   "name": "python3"
  },
  "language_info": {
   "codemirror_mode": {
    "name": "ipython",
    "version": 3
   },
   "file_extension": ".py",
   "mimetype": "text/x-python",
   "name": "python",
   "nbconvert_exporter": "python",
   "pygments_lexer": "ipython3",
   "version": "3.8.3"
  }
 },
 "nbformat": 4,
 "nbformat_minor": 4
}
